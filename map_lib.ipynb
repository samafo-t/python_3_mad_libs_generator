{
 "cells": [
  {
   "cell_type": "code",
   "execution_count": null,
   "metadata": {},
   "outputs": [],
   "source": [
    "# PROJECT BRIEF\n",
    "\n",
    "# Inspired by Summer Son’s Mad Libs project with Javascript. The program will first prompt the\n",
    "# user for a series of inputs a la Mad Libs. For example, a singular noun, an adjective, etc. Then,\n",
    "# once all the information has been inputted, the program will take that data and place them into a\n",
    "# premade story template. You’ll need prompts for user input, and to then print out the full story at\n",
    "# the end with the input included."
   ]
  },
  {
   "cell_type": "code",
   "execution_count": null,
   "metadata": {},
   "outputs": [],
   "source": [
    "inputs = [\"a data science term\", \"an adjective\", \"a verb ending in -ed\", \"a plural noun\", \"a machine learning algorithm\", \"a number\", \"a data visualization tool\", \"a color\", \"a data source\", \"a data science goal\"]\n",
    "\n",
    "prompts = [\"Please enter \" + i + \": \" for i in inputs]\n",
    "\n",
    "term = input(prompts[0])\n",
    "adj = input(prompts[1])\n",
    "verb = input(prompts[2])\n",
    "plural = input(prompts[3])\n",
    "algo = input(prompts[4])\n",
    "num = input(prompts[5])\n",
    "tool = input(prompts[6])\n",
    "color = input(prompts[7])\n",
    "source = input(prompts[8])\n",
    "goal = input(prompts[9])\n",
    "\n",
    "story = \"This is a story about \" + term + \". \" + term + \" is a very \" + adj + \" concept in data science. It can be used to \" + verb + \" data and extract insights. One of the applications of \" + term + \" is to analyze \" + plural + \". For example, you can use \" + algo + \" to classify \" + plural + \" into different categories. This can help you achieve your \" + goal + \". The accuracy of \" + algo + \" depends on many factors, such as the quality of the data, the choice of parameters, and the evaluation metrics. A good data scientist should always test and optimize their models to achieve the best results. In this case, the accuracy of \" + algo + \" is \" + num + \" percent, which is quite impressive. To visualize the results, you can use \" + tool + \" to create a \" + color + \" chart that shows the distribution of \" + plural + \" by category. This can help you communicate your findings to others. The data for this analysis comes from \" + source + \", which is a reliable and trustworthy data source. You can access the data using an API or download it as a CSV file. The end.\""
   ]
  }
 ],
 "metadata": {
  "kernelspec": {
   "display_name": "Python 3",
   "language": "python",
   "name": "python3"
  },
  "language_info": {
   "codemirror_mode": {
    "name": "ipython",
    "version": 3
   },
   "file_extension": ".py",
   "mimetype": "text/x-python",
   "name": "python",
   "nbconvert_exporter": "python",
   "pygments_lexer": "ipython3",
   "version": "3.9.12"
  }
 },
 "nbformat": 4,
 "nbformat_minor": 2
}
